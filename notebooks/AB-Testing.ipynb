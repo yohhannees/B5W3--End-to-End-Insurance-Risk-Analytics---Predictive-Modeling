{
 "cells": [
  {
   "cell_type": "code",
   "execution_count": 6,
   "id": "f1db42e4",
   "metadata": {},
   "outputs": [
    {
     "name": "stderr",
     "output_type": "stream",
     "text": [
      "/tmp/ipykernel_18388/1644578351.py:7: DtypeWarning: Columns (32,37) have mixed types. Specify dtype option on import or set low_memory=False.\n",
      "  df = pd.read_csv(\"./../data/MachineLearningRating_v3.txt\", sep = \"|\")\n"
     ]
    },
    {
     "name": "stdout",
     "output_type": "stream",
     "text": [
      "Data prepared for hypothesis testing.\n",
      "Total policies: 1000098\n",
      "Policies with claims: 2788\n"
     ]
    }
   ],
   "source": [
    "import pandas as pd\n",
    "from scipy import stats\n",
    "\n",
    "ALPHA = 0.05\n",
    "\n",
    "# Assume 'df' is our preloaded and cleaned DataFrame from Task 1\n",
    "df = pd.read_csv(\"./../data/MachineLearningRating_v3.txt\", sep = \"|\")\n",
    "\n",
    "# 1. Engineer 'HasClaim' for Claim Frequency analysis\n",
    "# A binary flag: 1 if a claim was made, 0 otherwise.\n",
    "df['HasClaim'] = (df['TotalClaims'] > 0).astype(int)\n",
    "\n",
    "# 2. Engineer 'Margin' for profitability analysis\n",
    "# The difference between premium and claims.\n",
    "df['Margin'] = df['TotalPremium'] - df['TotalClaims']\n",
    "\n",
    "# 3. For Claim Severity analysis, we will filter the data to only include policies with claims.\n",
    "claims_only_df = df[df['HasClaim'] == 1].copy()\n",
    "\n",
    "print(\"Data prepared for hypothesis testing.\")\n",
    "print(f\"Total policies: {len(df)}\")\n",
    "print(f\"Policies with claims: {len(claims_only_df)}\")"
   ]
  },
  {
   "cell_type": "code",
   "execution_count": 7,
   "id": "6fb3404a",
   "metadata": {},
   "outputs": [
    {
     "name": "stdout",
     "output_type": "stream",
     "text": [
      "\n",
      ">>> Testing Hypothesis 1: No risk differences across Provinces <<<\n",
      "\n",
      "--- H1(a): Testing Claim Frequency by Province ---\n",
      "Chi-Squared Test Result: p-value = 0.0000\n",
      "Result: Reject H₀. There is a statistically significant difference in claim frequency across provinces.\n",
      "\n",
      "--- H1(b): Testing Claim Severity by Province ---\n",
      "One-Way ANOVA Result: p-value = 0.0000\n",
      "Result: Reject H₀. There is a statistically significant difference in claim severity (average claim amount) across provinces.\n",
      "--------------------------------------------------\n"
     ]
    }
   ],
   "source": [
    "# ===== Hypothesis 1: No risk differences across PROVINCES =====\n",
    "print(\"\\n>>> Testing Hypothesis 1: No risk differences across Provinces <<<\")\n",
    "\n",
    "# A. Claim Frequency by Province (Chi-Squared Test)\n",
    "print(\"\\n--- H1(a): Testing Claim Frequency by Province ---\")\n",
    "contingency_table_prov = pd.crosstab(df['Province'], df['HasClaim'])\n",
    "chi2, p_value, _, _ = stats.chi2_contingency(contingency_table_prov)\n",
    "print(f\"Chi-Squared Test Result: p-value = {p_value:.4f}\")\n",
    "if p_value < ALPHA:\n",
    "    print(\"Result: Reject H₀. There is a statistically significant difference in claim frequency across provinces.\")\n",
    "else:\n",
    "    print(\"Result: Fail to reject H₀. No significant evidence of a difference in claim frequency across provinces.\")\n",
    "\n",
    "# B. Claim Severity by Province (One-Way ANOVA)\n",
    "print(\"\\n--- H1(b): Testing Claim Severity by Province ---\")\n",
    "province_groups = claims_only_df.groupby('Province')['TotalClaims'].apply(list)\n",
    "# Ensure we have more than one group to compare\n",
    "if len(province_groups) > 1:\n",
    "    f_statistic, p_value = stats.f_oneway(*province_groups)\n",
    "    print(f\"One-Way ANOVA Result: p-value = {p_value:.4f}\")\n",
    "    if p_value < ALPHA:\n",
    "        print(\"Result: Reject H₀. There is a statistically significant difference in claim severity (average claim amount) across provinces.\")\n",
    "    else:\n",
    "        print(\"Result: Fail to reject H₀. No significant evidence of a difference in claim severity across provinces.\")\n",
    "else:\n",
    "    print(\"Skipping test: Only one province group found in the data with claims.\")\n",
    "print(\"-\" * 50)"
   ]
  },
  {
   "cell_type": "code",
   "execution_count": 8,
   "id": "65c15c4e",
   "metadata": {},
   "outputs": [
    {
     "name": "stdout",
     "output_type": "stream",
     "text": [
      "\n",
      ">>> Testing Hypotheses 2 & 3: No risk or margin differences across top 20 Zip Codes <<<\n",
      "Analysis focused on the top 20 zip codes, covering 399225 policies.\n",
      "\n",
      "--- H2(a): Testing Claim Frequency by Zip Code ---\n",
      "Chi-Squared Test Result: p-value = 0.0000\n",
      "Result: Reject H₀. There is a statistically significant difference in claim frequency across top zip codes.\n",
      "\n",
      "--- H2(b): Testing Claim Severity by Zip Code ---\n",
      "One-Way ANOVA Result: p-value = 0.0000\n",
      "Result: Reject H₀. There is a statistically significant difference in claim severity across top zip codes.\n",
      "\n",
      "--- H3: Testing Margin (Profit) by Zip Code ---\n",
      "One-Way ANOVA Result: p-value = 0.0116\n",
      "Result: Reject H₀. There is a statistically significant difference in margin across top zip codes.\n",
      "--------------------------------------------------\n"
     ]
    }
   ],
   "source": [
    "# ===== Hypothesis 2 & 3: No risk or margin differences between ZIP CODES =====\n",
    "print(\"\\n>>> Testing Hypotheses 2 & 3: No risk or margin differences across top 20 Zip Codes <<<\")\n",
    "\n",
    "# Prepare data for top 20 zip codes by policy volume\n",
    "top_20_zipcodes = df['PostalCode'].value_counts().nlargest(20).index\n",
    "df_top_zips = df[df['PostalCode'].isin(top_20_zipcodes)].copy()\n",
    "claims_only_df_top_zips = df_top_zips[df_top_zips['HasClaim'] == 1].copy()\n",
    "print(f\"Analysis focused on the top 20 zip codes, covering {len(df_top_zips)} policies.\")\n",
    "\n",
    "# A. Claim Frequency by Zip Code (Chi-Squared Test)\n",
    "print(\"\\n--- H2(a): Testing Claim Frequency by Zip Code ---\")\n",
    "contingency_table_zip = pd.crosstab(df_top_zips['PostalCode'], df_top_zips['HasClaim'])\n",
    "chi2, p_value, _, _ = stats.chi2_contingency(contingency_table_zip)\n",
    "print(f\"Chi-Squared Test Result: p-value = {p_value:.4f}\")\n",
    "if p_value < ALPHA:\n",
    "    print(\"Result: Reject H₀. There is a statistically significant difference in claim frequency across top zip codes.\")\n",
    "else:\n",
    "    print(\"Result: Fail to reject H₀. No significant evidence of a difference in claim frequency across top zip codes.\")\n",
    "\n",
    "# B. Claim Severity by Zip Code (One-Way ANOVA)\n",
    "print(\"\\n--- H2(b): Testing Claim Severity by Zip Code ---\")\n",
    "zip_groups_severity = claims_only_df_top_zips.groupby('PostalCode')['TotalClaims'].apply(list)\n",
    "if len(zip_groups_severity) > 1:\n",
    "    f_statistic, p_value = stats.f_oneway(*zip_groups_severity)\n",
    "    print(f\"One-Way ANOVA Result: p-value = {p_value:.4f}\")\n",
    "    if p_value < ALPHA:\n",
    "        print(\"Result: Reject H₀. There is a statistically significant difference in claim severity across top zip codes.\")\n",
    "    else:\n",
    "        print(\"Result: Fail to reject H₀. No significant evidence of a difference in claim severity across top zip codes.\")\n",
    "else:\n",
    "    print(\"Skipping test: Only one zip code group found in the data with claims.\")\n",
    "\n",
    "# C. Margin by Zip Code (One-Way ANOVA)\n",
    "print(\"\\n--- H3: Testing Margin (Profit) by Zip Code ---\")\n",
    "zip_groups_margin = df_top_zips.groupby('PostalCode')['Margin'].apply(list)\n",
    "if len(zip_groups_margin) > 1:\n",
    "    f_statistic, p_value = stats.f_oneway(*zip_groups_margin)\n",
    "    print(f\"One-Way ANOVA Result: p-value = {p_value:.4f}\")\n",
    "    if p_value < ALPHA:\n",
    "        print(\"Result: Reject H₀. There is a statistically significant difference in margin across top zip codes.\")\n",
    "    else:\n",
    "        print(\"Result: Fail to reject H₀. No significant evidence of a difference in margin across top zip codes.\")\n",
    "else:\n",
    "    print(\"Skipping test: Only one zip code group found for margin analysis.\")\n",
    "print(\"-\" * 50)\n"
   ]
  },
  {
   "cell_type": "code",
   "execution_count": 9,
   "id": "2a2135b2",
   "metadata": {},
   "outputs": [
    {
     "name": "stdout",
     "output_type": "stream",
     "text": [
      "\n",
      ">>> Testing Hypothesis 4: No significant risk difference between Genders <<<\n",
      "\n",
      "--- H4(a): Testing Claim Frequency by Gender ---\n",
      "Chi-Squared Test Result: p-value = 0.0266\n",
      "Result: Reject H₀. There is a statistically significant difference in claim frequency between genders.\n",
      "\n",
      "--- H4(b): Testing Claim Severity by Gender ---\n",
      "Skipping test: Not enough claim data for at least one gender.\n",
      "--------------------------------------------------\n"
     ]
    }
   ],
   "source": [
    "# ===== Hypothesis 4: No significant risk difference between WOMEN and MEN =====\n",
    "print(\"\\n>>> Testing Hypothesis 4: No significant risk difference between Genders <<<\")\n",
    "\n",
    "# A. Claim Frequency by Gender (Chi-Squared Test)\n",
    "print(\"\\n--- H4(a): Testing Claim Frequency by Gender ---\")\n",
    "contingency_table_gender = pd.crosstab(df['Gender'], df['HasClaim'])\n",
    "chi2, p_value, _, _ = stats.chi2_contingency(contingency_table_gender)\n",
    "print(f\"Chi-Squared Test Result: p-value = {p_value:.4f}\")\n",
    "if p_value < ALPHA:\n",
    "    print(\"Result: Reject H₀. There is a statistically significant difference in claim frequency between genders.\")\n",
    "else:\n",
    "    print(\"Result: Fail to reject H₀. No significant evidence of a difference in claim frequency between genders.\")\n",
    "\n",
    "# B. Claim Severity by Gender (Independent t-test)\n",
    "print(\"\\n--- H4(b): Testing Claim Severity by Gender ---\")\n",
    "claims_men = claims_only_df[claims_only_df['Gender'] == 'M']['TotalClaims']\n",
    "claims_women = claims_only_df[claims_only_df['Gender'] == 'F']['TotalClaims']\n",
    "\n",
    "# Ensure there are claims for both genders to compare\n",
    "if len(claims_men) > 1 and len(claims_women) > 1:\n",
    "    # Use Welch's t-test which does not assume equal variances\n",
    "    t_statistic, p_value = stats.ttest_ind(claims_men, claims_women, equal_var=False)\n",
    "    print(f\"Independent t-test Result: p-value = {p_value:.4f}\")\n",
    "    if p_value < ALPHA:\n",
    "        print(\"Result: Reject H₀. There is a statistically significant difference in claim severity between genders.\")\n",
    "    else:\n",
    "        print(\"Result: Fail to reject H₀. No significant evidence of a difference in claim severity between genders.\")\n",
    "else:\n",
    "    print(\"Skipping test: Not enough claim data for at least one gender.\")\n",
    "print(\"-\" * 50)"
   ]
  },
  {
   "cell_type": "code",
   "execution_count": 10,
   "id": "bd41e162",
   "metadata": {},
   "outputs": [
    {
     "name": "stdout",
     "output_type": "stream",
     "text": [
      "\n",
      "--- Hypothesis Testing Complete ---\n",
      "The results above should be used to formulate business recommendations for the final report.\n"
     ]
    }
   ],
   "source": [
    "print(\"\\n--- Hypothesis Testing Complete ---\")\n",
    "print(\"The results above should be used to formulate business recommendations for the final report.\")"
   ]
  }
 ],
 "metadata": {
  "kernelspec": {
   "display_name": ".venv",
   "language": "python",
   "name": "python3"
  },
  "language_info": {
   "codemirror_mode": {
    "name": "ipython",
    "version": 3
   },
   "file_extension": ".py",
   "mimetype": "text/x-python",
   "name": "python",
   "nbconvert_exporter": "python",
   "pygments_lexer": "ipython3",
   "version": "3.13.3"
  }
 },
 "nbformat": 4,
 "nbformat_minor": 5
}
